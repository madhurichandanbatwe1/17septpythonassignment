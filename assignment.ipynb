{
 "cells": [
  {
   "cell_type": "markdown",
   "id": "a3ec7e2b-0105-4f05-ae85-347f4da48497",
   "metadata": {},
   "source": [
    "Write a Python program to print numbers from 1 to 10 using a for loop.\n"
   ]
  },
  {
   "cell_type": "code",
   "execution_count": 1,
   "id": "c85bd70b-739d-4cc7-b9ac-488447d37f48",
   "metadata": {},
   "outputs": [
    {
     "name": "stdout",
     "output_type": "stream",
     "text": [
      "1\n",
      "2\n",
      "3\n",
      "4\n",
      "5\n",
      "6\n",
      "7\n",
      "8\n",
      "9\n"
     ]
    }
   ],
   "source": [
    "for i in range(1,10):\n",
    "    print(i)"
   ]
  },
  {
   "cell_type": "markdown",
   "id": "ea157365-7bc8-44c9-a30d-64908d6d45d5",
   "metadata": {},
   "source": [
    "2.Explain the difference between a for loop and a while loop in Python.\n"
   ]
  },
  {
   "cell_type": "markdown",
   "id": "1ce60b87-b29c-4f25-bc28-7bd2a9792c7d",
   "metadata": {},
   "source": [
    "For loop is used when the number of iterations is already known. \n",
    "While loop is used when the number of iterations is already Unknown."
   ]
  },
  {
   "cell_type": "markdown",
   "id": "99a32d67-7746-4ee3-b369-3456d5d17f76",
   "metadata": {},
   "source": [
    "3.Write a Python program to calculate the sum of all numbers from 1 to 100 using a for loop.\n"
   ]
  },
  {
   "cell_type": "code",
   "execution_count": 2,
   "id": "28240472-7ce1-4f63-9002-0ad30785f76f",
   "metadata": {},
   "outputs": [
    {
     "name": "stdout",
     "output_type": "stream",
     "text": [
      "4950\n"
     ]
    }
   ],
   "source": [
    "s=0\n",
    "for i in range(1,100):\n",
    "    s=s+i\n",
    "print(s)"
   ]
  },
  {
   "cell_type": "markdown",
   "id": "b2f69b7f-9ee7-47f0-b902-feb421770835",
   "metadata": {},
   "source": [
    "4.How do you iterate through a list using a for loop in Python?\n"
   ]
  },
  {
   "cell_type": "code",
   "execution_count": 3,
   "id": "1ae94e46-7a54-4158-bde1-6f88c09ee8fb",
   "metadata": {},
   "outputs": [
    {
     "name": "stdout",
     "output_type": "stream",
     "text": [
      "1\n",
      "2\n",
      "3\n",
      "4\n"
     ]
    }
   ],
   "source": [
    "l=[1,2,3,4]\n",
    "for i in l:\n",
    "    print(i)"
   ]
  },
  {
   "cell_type": "markdown",
   "id": "976eb157-a0ae-46ac-8f0a-238e257eaf5d",
   "metadata": {},
   "source": [
    "5.Write a Python program to find the product of all elements in a list using a for loop.\n"
   ]
  },
  {
   "cell_type": "code",
   "execution_count": 4,
   "id": "df458e96-c8e0-463c-9afd-548005312603",
   "metadata": {},
   "outputs": [
    {
     "name": "stdout",
     "output_type": "stream",
     "text": [
      "120\n"
     ]
    }
   ],
   "source": [
    "l=[1,2,3,4,5]\n",
    "p=1\n",
    "for i in l:\n",
    "    p=p*i\n",
    "print(p)"
   ]
  },
  {
   "cell_type": "markdown",
   "id": "eb7a729d-1212-40e2-84fa-095c9408f654",
   "metadata": {},
   "source": [
    "6. Create a Python program that prints all even numbers from 1 to 20 using a for loop.\n"
   ]
  },
  {
   "cell_type": "code",
   "execution_count": 5,
   "id": "d1563e96-4aab-43bf-aa9c-79c59fd6126e",
   "metadata": {},
   "outputs": [
    {
     "name": "stdout",
     "output_type": "stream",
     "text": [
      "2\n",
      "4\n",
      "6\n",
      "8\n",
      "10\n",
      "12\n",
      "14\n",
      "16\n",
      "18\n",
      "20\n"
     ]
    }
   ],
   "source": [
    "for i in range(1,21):\n",
    "    if i%2==0:\n",
    "        print(i)"
   ]
  },
  {
   "cell_type": "markdown",
   "id": "2cd085e2-1a26-40e1-bbc8-184647f6a9ea",
   "metadata": {},
   "source": [
    "7 Write a Python program that calculates the factorial of a number using a for loop.\n"
   ]
  },
  {
   "cell_type": "code",
   "execution_count": 9,
   "id": "cd2a82a7-e468-443f-83cd-2f8c4106134f",
   "metadata": {},
   "outputs": [
    {
     "name": "stdin",
     "output_type": "stream",
     "text": [
      "enter the number whose factoril is to be found out 6\n"
     ]
    },
    {
     "name": "stdout",
     "output_type": "stream",
     "text": [
      "720\n"
     ]
    }
   ],
   "source": [
    "m=int(input(\"enter the number whose factoril is to be found out\"))\n",
    "fact=1\n",
    "for i in range(1,m+1):\n",
    "    fact=fact*i\n",
    "print(fact)"
   ]
  },
  {
   "cell_type": "markdown",
   "id": "b2da42dc-c316-450b-97d7-d8a2da59d706",
   "metadata": {},
   "source": [
    "8 How can you iterate through the characters of a string using a for loop in Python?\n"
   ]
  },
  {
   "cell_type": "code",
   "execution_count": 11,
   "id": "a4fb9c70-60df-478b-aa80-d892cfc4a24b",
   "metadata": {},
   "outputs": [
    {
     "name": "stdout",
     "output_type": "stream",
     "text": [
      "I\n",
      "study\n",
      "DataScience\n"
     ]
    }
   ],
   "source": [
    "string1=\"I study DataScience\"\n",
    "for i in string1.split():\n",
    "    print(i)"
   ]
  },
  {
   "cell_type": "markdown",
   "id": "f3c78789-adcb-43f4-8523-72df1dad3c31",
   "metadata": {},
   "source": [
    "9 Write a Python program to find the largest number in a list using a for loop.\n"
   ]
  },
  {
   "cell_type": "code",
   "execution_count": 12,
   "id": "bde2eff7-9f84-4bb4-9b7a-aae8321a375f",
   "metadata": {},
   "outputs": [
    {
     "name": "stdout",
     "output_type": "stream",
     "text": [
      "20\n"
     ]
    }
   ],
   "source": [
    "l1=[10,20,5]\n",
    "largest=l1[0]\n",
    "for i in l1:\n",
    "    if i>largest:\n",
    "        largest=i\n",
    "print(largest)"
   ]
  },
  {
   "cell_type": "markdown",
   "id": "73412f8e-5efe-467d-b37d-1b0ee212852c",
   "metadata": {},
   "source": [
    "10 Create a Python program that prints the Fibonacci sequence up to a specified limit using a for loop.\n"
   ]
  },
  {
   "cell_type": "code",
   "execution_count": 13,
   "id": "cb449096-13c3-412a-8662-e72b9cf75687",
   "metadata": {},
   "outputs": [
    {
     "name": "stdin",
     "output_type": "stream",
     "text": [
      "How many terms?  5\n"
     ]
    },
    {
     "name": "stdout",
     "output_type": "stream",
     "text": [
      "Fibonacci sequence:\n",
      "0\n",
      "1\n",
      "1\n",
      "2\n",
      "3\n"
     ]
    }
   ],
   "source": [
    "nterms = int(input(\"How many terms? \"))\n",
    "\n",
    "# first two terms\n",
    "n1, n2 = 0, 1\n",
    "count = 0\n",
    "\n",
    "# check if the number of terms is valid\n",
    "if nterms <= 0:\n",
    "    print(\"Please enter a positive integer\")\n",
    "# if there is only one term, return n1\n",
    "elif nterms == 1:\n",
    "    print(\"Fibonacci sequence upto\",nterms,\":\")\n",
    "    print(n1)\n",
    "# generate fibonacci sequence\n",
    "else:\n",
    "    print(\"Fibonacci sequence:\")\n",
    "    while count < nterms:\n",
    "        print(n1)\n",
    "        nth = n1 + n2\n",
    "         # update values\n",
    "        n1 = n2\n",
    "        n2 = nth\n",
    "        count += 1\n",
    "\n"
   ]
  },
  {
   "cell_type": "markdown",
   "id": "5f9d723f-6c3e-400f-af3b-5747a724eef9",
   "metadata": {},
   "source": [
    "11 Write a Python program to count the number of vowels in a given string using a for loop.\n"
   ]
  },
  {
   "cell_type": "code",
   "execution_count": 14,
   "id": "735b70c2-7900-416c-9b0d-74569c02af45",
   "metadata": {},
   "outputs": [
    {
     "name": "stdout",
     "output_type": "stream",
     "text": [
      "6\n"
     ]
    }
   ],
   "source": [
    "s=\"I study in pwskilla lab\"\n",
    "v=['a','e','i','o','u','A','E','I','O','U']\n",
    "c=0\n",
    "for i in s:\n",
    "    if i in v:\n",
    "        c=c+1\n",
    "print(c)"
   ]
  },
  {
   "cell_type": "markdown",
   "id": "03768468-d903-4b9c-8b42-81bdea1649af",
   "metadata": {},
   "source": [
    "12 Create a Python program that generates a multiplication table for a given number using a for loop"
   ]
  },
  {
   "cell_type": "code",
   "execution_count": 16,
   "id": "c8a9947e-44ee-433f-b3d1-aa914a594690",
   "metadata": {},
   "outputs": [
    {
     "name": "stdin",
     "output_type": "stream",
     "text": [
      "enter the number 5\n"
     ]
    },
    {
     "name": "stdout",
     "output_type": "stream",
     "text": [
      "5 X 1 == 5\n",
      "5 X 2 == 10\n",
      "5 X 3 == 15\n",
      "5 X 4 == 20\n",
      "5 X 5 == 25\n",
      "5 X 6 == 30\n",
      "5 X 7 == 35\n",
      "5 X 8 == 40\n",
      "5 X 9 == 45\n",
      "5 X 10 == 50\n"
     ]
    }
   ],
   "source": [
    "n=int(input(\"enter the number\"))\n",
    "for i in range(1,11):\n",
    "    print(f'{n} X {i} == {n*i}')"
   ]
  },
  {
   "cell_type": "markdown",
   "id": "c1b76920-69c8-48e8-b810-64920fbb952b",
   "metadata": {},
   "source": [
    "13 Write a Python program to reverse a list using a for loop."
   ]
  },
  {
   "cell_type": "code",
   "execution_count": 20,
   "id": "9f70db99-0d2e-4f04-b64f-70c88b9ffeb3",
   "metadata": {},
   "outputs": [
    {
     "name": "stdout",
     "output_type": "stream",
     "text": [
      "[1, 3, 5, 2]\n"
     ]
    }
   ],
   "source": [
    "l=[2,5,3,1]\n",
    "l1=[]\n",
    "for i in range(len(l)-1,-1,-1):\n",
    "    l1.append(l[i])\n",
    "    \n",
    "print(l1)"
   ]
  },
  {
   "cell_type": "markdown",
   "id": "05708fde-cad1-482e-a539-7cede3611b05",
   "metadata": {},
   "source": [
    "14 Write a Python program to find the common elements between two lists using a for loop."
   ]
  },
  {
   "cell_type": "code",
   "execution_count": 21,
   "id": "00fede73-21a1-40fe-bc3c-a9c9ad7b962e",
   "metadata": {},
   "outputs": [
    {
     "name": "stdout",
     "output_type": "stream",
     "text": [
      "2\n",
      "5\n",
      "3\n"
     ]
    }
   ],
   "source": [
    "l1=[2,5,3,6]\n",
    "l2=[3,3,2,5]\n",
    "for i in l1:\n",
    "    if i in l2:\n",
    "        print(i)"
   ]
  },
  {
   "cell_type": "markdown",
   "id": "1146dc46-3892-4888-a526-612fdeaa3fbc",
   "metadata": {},
   "source": [
    "15 Explain how to use a for loop to iterate through the keys and values of a dictionary in Python.\n"
   ]
  },
  {
   "cell_type": "code",
   "execution_count": 25,
   "id": "88284825-dcb3-44b7-a612-71a80c6c49de",
   "metadata": {},
   "outputs": [
    {
     "name": "stdout",
     "output_type": "stream",
     "text": [
      "Key:a,Value:1\n",
      "Key:b,Value:2\n",
      "Key:c,Value:3\n"
     ]
    }
   ],
   "source": [
    "d=dict(zip(['a','b','c'],[1,2,3]))\n",
    "for key,value in d.items():\n",
    "    print(f\"Key:{key},Value:{value}\")"
   ]
  },
  {
   "cell_type": "markdown",
   "id": "5af191d9-6a06-4dfc-8671-a16aaa472fd4",
   "metadata": {},
   "source": [
    "16 Write a Python program to find the GCD (Greatest Common Divisor) of two numbers using a for loop."
   ]
  },
  {
   "cell_type": "code",
   "execution_count": null,
   "id": "374c9c1d-65e3-44dc-996d-91ed2a326abb",
   "metadata": {},
   "outputs": [],
   "source": []
  },
  {
   "cell_type": "markdown",
   "id": "af495f33-fa36-4ef7-87f5-6e0c6fbf43c3",
   "metadata": {},
   "source": [
    "17 Create a Python program that checks if a string is a palindrome using a for loop."
   ]
  },
  {
   "cell_type": "code",
   "execution_count": 28,
   "id": "f8fc6e8e-4135-47cb-9457-25bee6d4c375",
   "metadata": {},
   "outputs": [
    {
     "name": "stdout",
     "output_type": "stream",
     "text": [
      "string not palindrome\n"
     ]
    }
   ],
   "source": [
    "string=\"Data Science\"\n",
    "reverse_string=\"\"\n",
    "for i in range(len(string)-1,-1,-1):\n",
    "    reverse_string+=string[i]\n",
    "if string==reverse_string:\n",
    "    print(\"string is palindrome\")\n",
    "else:\n",
    "    print(\"string not palindrome\")"
   ]
  },
  {
   "cell_type": "markdown",
   "id": "a9de1d58-6192-4e0f-9d65-b2177cacc355",
   "metadata": {},
   "source": [
    "18 Write a Python program to remove duplicates from a list using a for loop.\n"
   ]
  },
  {
   "cell_type": "code",
   "execution_count": 2,
   "id": "d6a34e88-38f2-4a29-8963-f332fcd8637b",
   "metadata": {},
   "outputs": [
    {
     "name": "stdout",
     "output_type": "stream",
     "text": [
      "[2, 3, 25, 6, 7, 5]\n"
     ]
    }
   ],
   "source": [
    "l1=[2,3,3,25,6,7,5,7]\n",
    "l2=[]\n",
    "for i in l1:\n",
    "    if i not in l2:\n",
    "        l2.append(i)\n",
    "print(l2)\n"
   ]
  },
  {
   "cell_type": "markdown",
   "id": "f4b2aeef-7fe7-4a0e-94b2-1936430586a7",
   "metadata": {},
   "source": [
    "19 Create a Python program that counts the number of words in a sentence using a for loop.\n"
   ]
  },
  {
   "cell_type": "code",
   "execution_count": 3,
   "id": "0ae5dced-cf98-4e96-9b26-f1909800001b",
   "metadata": {},
   "outputs": [
    {
     "name": "stdout",
     "output_type": "stream",
     "text": [
      "4\n"
     ]
    }
   ],
   "source": [
    "s=\"I study Data Science\"\n",
    "c=0\n",
    "for i in s.split():\n",
    "    c=c+1\n",
    "print(c)"
   ]
  },
  {
   "cell_type": "markdown",
   "id": "c42f38e2-b1ef-46ca-98f8-45e3412efe08",
   "metadata": {},
   "source": [
    "20 Write a Python program to find the sum of all odd numbers from 1 to 50 using a for loop."
   ]
  },
  {
   "cell_type": "code",
   "execution_count": 4,
   "id": "a2b5150e-a7b0-49eb-bd83-2d9bfde17add",
   "metadata": {},
   "outputs": [
    {
     "name": "stdout",
     "output_type": "stream",
     "text": [
      "625\n"
     ]
    }
   ],
   "source": [
    "s=0\n",
    "for i in range(1,51):\n",
    "    if i%2!=0:\n",
    "        s=s+i\n",
    "print(s)"
   ]
  },
  {
   "cell_type": "markdown",
   "id": "1722a286-48e6-452e-9a91-f79662891359",
   "metadata": {},
   "source": [
    "21 Write a Python program that checks if a given year is a leap year using a for loop.\n"
   ]
  },
  {
   "cell_type": "code",
   "execution_count": 5,
   "id": "086e5fff-6d9a-42c2-b962-20648684649a",
   "metadata": {},
   "outputs": [
    {
     "name": "stdin",
     "output_type": "stream",
     "text": [
      "Enter a year:  2034\n"
     ]
    },
    {
     "name": "stdout",
     "output_type": "stream",
     "text": [
      "2034 is not a leap year.\n"
     ]
    }
   ],
   "source": [
    "def is_leap_year(year):\n",
    "    if year % 4 == 0:\n",
    "        if year % 100 == 0:\n",
    "            if year % 400 == 0:\n",
    "                return True\n",
    "            else:\n",
    "                return False\n",
    "        else:\n",
    "            return True\n",
    "    else:\n",
    "        return False\n",
    "\n",
    "def main():\n",
    "    year = int(input(\"Enter a year: \"))\n",
    "    leap_year = False\n",
    "    for i in range(1):\n",
    "        if is_leap_year(year):\n",
    "            leap_year = True\n",
    "            break\n",
    "\n",
    "    if leap_year:\n",
    "        print(f\"{year} is a leap year.\")\n",
    "    else:\n",
    "        print(f\"{year} is not a leap year.\")\n",
    "\n",
    "if __name__ == \"__main__\":\n",
    "    main()\n"
   ]
  },
  {
   "cell_type": "markdown",
   "id": "72500ec2-b9b2-4b30-a92b-fc7296eceaf5",
   "metadata": {},
   "source": [
    "22 Create a Python program that calculates the square root of a number using a for loop.\n"
   ]
  },
  {
   "cell_type": "code",
   "execution_count": 6,
   "id": "0bac5dd0-99d7-47c1-8083-4eb43b1e8819",
   "metadata": {},
   "outputs": [
    {
     "name": "stdin",
     "output_type": "stream",
     "text": [
      "Enter a number:  45\n"
     ]
    },
    {
     "name": "stdout",
     "output_type": "stream",
     "text": [
      "The square root of 45.0 is approximately 6.708204.\n"
     ]
    }
   ],
   "source": [
    "def square_root(number):\n",
    "    # Initial guess for square root (can be any value)\n",
    "    guess = number / 2.0\n",
    "    \n",
    "    # Loop to improve the guess\n",
    "    for _ in range(10):\n",
    "        # Update the guess using Newton's method\n",
    "        guess = (guess + number / guess) / 2.0\n",
    "    \n",
    "    return guess\n",
    "\n",
    "def main():\n",
    "    number = float(input(\"Enter a number: \"))\n",
    "    if number < 0:\n",
    "        print(\"Cannot calculate square root of a negative number.\")\n",
    "    else:\n",
    "        sqrt = square_root(number)\n",
    "        print(f\"The square root of {number} is approximately {sqrt:.6f}.\")\n",
    "\n",
    "if __name__ == \"__main__\":\n",
    "    main()\n"
   ]
  },
  {
   "cell_type": "markdown",
   "id": "a0ecfed0-ddc0-460d-b922-bf3405f27167",
   "metadata": {},
   "source": [
    "23 Write a Python program to find the LCM (Least Common Multiple) of two numbers using a for loop.\n"
   ]
  },
  {
   "cell_type": "code",
   "execution_count": 7,
   "id": "24fa5153-cdeb-4c7a-85db-1b0ccdf849e3",
   "metadata": {},
   "outputs": [
    {
     "name": "stdin",
     "output_type": "stream",
     "text": [
      "Enter first number:  34\n",
      "Enter second number:  23\n"
     ]
    },
    {
     "name": "stdout",
     "output_type": "stream",
     "text": [
      "The LCM of 34 and 23 is 782.\n"
     ]
    }
   ],
   "source": [
    "def find_lcm(x, y):\n",
    "    # Determine the larger number\n",
    "    if x > y:\n",
    "        greater = x\n",
    "    else:\n",
    "        greater = y\n",
    "    \n",
    "    # Start from the greater number and iterate until finding the LCM\n",
    "    lcm = greater\n",
    "    while True:\n",
    "        if lcm % x == 0 and lcm % y == 0:\n",
    "            break\n",
    "        lcm += greater\n",
    "    \n",
    "    return lcm\n",
    "\n",
    "def main():\n",
    "    num1 = int(input(\"Enter first number: \"))\n",
    "    num2 = int(input(\"Enter second number: \"))\n",
    "\n",
    "    lcm = find_lcm(num1, num2)\n",
    "    print(f\"The LCM of {num1} and {num2} is {lcm}.\")\n",
    "\n",
    "if __name__ == \"__main__\":\n",
    "    main()\n"
   ]
  },
  {
   "cell_type": "code",
   "execution_count": 1,
   "id": "72a27abb-85e5-4911-978e-8956f137ac4f",
   "metadata": {},
   "outputs": [],
   "source": [
    "#ifelse"
   ]
  },
  {
   "cell_type": "markdown",
   "id": "36a7c61f-ff0f-435b-9978-75a695f5d16a",
   "metadata": {},
   "source": [
    "1 Write a Python program to check if a number is positive, negative, or zero using an if-else statement.\n"
   ]
  },
  {
   "cell_type": "code",
   "execution_count": 2,
   "id": "9c97bf46-f12e-4689-bd3f-c95909bd6d53",
   "metadata": {},
   "outputs": [
    {
     "name": "stdout",
     "output_type": "stream",
     "text": [
      "number is positive\n"
     ]
    }
   ],
   "source": [
    "n=20\n",
    "if n <0:\n",
    "    print(\"number is negative\")\n",
    "elif n==0:\n",
    "    print(\"number is 0\")\n",
    "else:\n",
    "    print(\"number is positive\")"
   ]
  },
  {
   "cell_type": "markdown",
   "id": "5a34ef99-090b-4ee5-bb11-2603615932dc",
   "metadata": {},
   "source": [
    "2 Create a Python program that checks if a given number is even or odd using an if-else statement.\n"
   ]
  },
  {
   "cell_type": "code",
   "execution_count": 3,
   "id": "1ca79de0-ed89-44e9-946c-2f0763cfee6c",
   "metadata": {},
   "outputs": [
    {
     "name": "stdout",
     "output_type": "stream",
     "text": [
      "number is even\n"
     ]
    }
   ],
   "source": [
    "n=6754\n",
    "if n%2==0:\n",
    "    print(\"number is even\")\n",
    "else:\n",
    "    print(\"number is odd\")"
   ]
  },
  {
   "cell_type": "markdown",
   "id": "675bf799-2229-4799-91be-cecfa87d9602",
   "metadata": {},
   "source": [
    "3 How can you use nested if-else statements in Python, and provide an example?\n"
   ]
  },
  {
   "cell_type": "code",
   "execution_count": null,
   "id": "16c9ba88-dcd9-4241-bc5e-d9ff413f9b50",
   "metadata": {},
   "outputs": [],
   "source": []
  },
  {
   "cell_type": "markdown",
   "id": "ddbdd19e-cc44-4fd7-9d90-d7b4f4c25e73",
   "metadata": {},
   "source": [
    "4 Write a Python program to determine the largest of three numbers using if-else.\n"
   ]
  },
  {
   "cell_type": "code",
   "execution_count": 5,
   "id": "d8dc0732-dbf8-4b22-b454-1d61a3e7d34e",
   "metadata": {},
   "outputs": [
    {
     "name": "stdout",
     "output_type": "stream",
     "text": [
      "b is greater\n"
     ]
    }
   ],
   "source": [
    "a=-20\n",
    "b=-5\n",
    "c=-10\n",
    "if a>b and a >c:\n",
    "    print(\"a is greater\")\n",
    "elif b>a and b>c:\n",
    "    print(\"b is greater\")\n",
    "else:\n",
    "    print(\"c is greater\")"
   ]
  },
  {
   "cell_type": "markdown",
   "id": "87a2f67e-2ac6-4cc8-a710-161649efc6c1",
   "metadata": {},
   "source": [
    "5 Write a Python program that calculates the absolute value of a number using if-else.\n"
   ]
  },
  {
   "cell_type": "code",
   "execution_count": 6,
   "id": "06ff63e5-0083-4f35-a525-b3f0d75b519c",
   "metadata": {},
   "outputs": [
    {
     "name": "stdout",
     "output_type": "stream",
     "text": [
      "9\n"
     ]
    }
   ],
   "source": [
    "n=-9\n",
    "if n<0:\n",
    "    n=-n\n",
    "else:\n",
    "    n=n\n",
    "print(n)"
   ]
  },
  {
   "cell_type": "markdown",
   "id": "caa26cfb-6758-4b67-b9dc-18ec76464c89",
   "metadata": {},
   "source": [
    "6 Create a Python program that checks if a given character is a vowel or consonant using if-else."
   ]
  },
  {
   "cell_type": "code",
   "execution_count": 7,
   "id": "9700e497-a79e-4c66-8c8c-5f29ba85081f",
   "metadata": {},
   "outputs": [
    {
     "name": "stdout",
     "output_type": "stream",
     "text": [
      "char is consonant\n"
     ]
    }
   ],
   "source": [
    "char='R'\n",
    "v=['a','e','i','o','u','A','E','I','O','U']\n",
    "if char in v:\n",
    "    print(\"char is vowel\")\n",
    "else:\n",
    "    print(\"char is consonant\")"
   ]
  },
  {
   "cell_type": "markdown",
   "id": "33ad008d-e36e-4c0d-90cc-fe6dc6f2260f",
   "metadata": {},
   "source": [
    "7 Write a Python program to determine if a user is eligible to vote based on their age using if-else.\n"
   ]
  },
  {
   "cell_type": "code",
   "execution_count": 8,
   "id": "4efcd224-9c54-4e87-809a-d8c463ddbf1b",
   "metadata": {},
   "outputs": [
    {
     "name": "stdin",
     "output_type": "stream",
     "text": [
      "enter age 12\n"
     ]
    },
    {
     "name": "stdout",
     "output_type": "stream",
     "text": [
      "user not eligible to vote\n"
     ]
    }
   ],
   "source": [
    "age=int(input(\"enter age\"))\n",
    "if age <18:\n",
    "    print(\"user not eligible to vote\")\n",
    "else:\n",
    "    print(\"user eligible to vote\")"
   ]
  },
  {
   "cell_type": "markdown",
   "id": "0aca974b-b69e-4df6-bc8b-43076fcda72e",
   "metadata": {},
   "source": [
    "8 Create a Python program that calculates the discount amount based on the purchase amount using if-else.\n"
   ]
  },
  {
   "cell_type": "code",
   "execution_count": 12,
   "id": "14e443c4-2e51-4ff3-a0d5-6818f3cbfd30",
   "metadata": {},
   "outputs": [
    {
     "name": "stdin",
     "output_type": "stream",
     "text": [
      "enter the discount percentage 20\n",
      "enter the pur_amount 11000\n"
     ]
    },
    {
     "name": "stdout",
     "output_type": "stream",
     "text": [
      "8800.0\n"
     ]
    }
   ],
   "source": [
    "disc_rate=float(input(\"enter the discount percentage\"))\n",
    "pur_amount=float(input(\"enter the pur_amount\"))\n",
    "if pur_amount>10000:\n",
    "    disc_amount=pur_amount-((disc_rate/100)*pur_amount)\n",
    "else:\n",
    "    disc_amount=pur_amount\n",
    "print(disc_amount)"
   ]
  },
  {
   "cell_type": "markdown",
   "id": "64bf0ab0-3036-4de0-a35b-a83e63136af2",
   "metadata": {},
   "source": [
    "9 Write a Python program to check if a number is within a specified range using if-else.\n"
   ]
  },
  {
   "cell_type": "code",
   "execution_count": 13,
   "id": "86fcf72f-598c-4520-9da8-730db2e894a3",
   "metadata": {},
   "outputs": [
    {
     "name": "stdin",
     "output_type": "stream",
     "text": [
      "enter the lower limit of range 3\n",
      "enter the upper limit of range 7\n",
      "enter the number 8\n"
     ]
    },
    {
     "name": "stdout",
     "output_type": "stream",
     "text": [
      "8.0 not in given range\n"
     ]
    }
   ],
   "source": [
    "a=int(input(\"enter the lower limit of range\"))\n",
    "b=int(input(\"enter the upper limit of range\"))\n",
    "i=float(input(\"enter the number\"))\n",
    "if a<i<b:\n",
    "    print(f\"{i} is in given range\")\n",
    "else:\n",
    "    print(f\"{i} not in given range\")"
   ]
  },
  {
   "cell_type": "markdown",
   "id": "e52cf566-7a65-4c90-97a9-9fac8e63f85a",
   "metadata": {},
   "source": [
    "10 Create a Python program that determines the grade of a student based on their score using if-else.\n"
   ]
  },
  {
   "cell_type": "code",
   "execution_count": 14,
   "id": "e8cc46ab-da48-4ec6-9f85-c62303bb43c7",
   "metadata": {},
   "outputs": [
    {
     "name": "stdin",
     "output_type": "stream",
     "text": [
      "enter the score 67\n"
     ]
    },
    {
     "name": "stdout",
     "output_type": "stream",
     "text": [
      "grade A\n"
     ]
    }
   ],
   "source": [
    "score=float(input(\"enter the score\"))\n",
    "if score>=75:\n",
    "    print(\"Distinction\")\n",
    "elif 60<score<75:\n",
    "    print(\"grade A\")\n",
    "elif 45<score<60:\n",
    "    print(\"grade B\")\n",
    "else:\n",
    "    print(\"Fail\")\n",
    "    "
   ]
  },
  {
   "cell_type": "markdown",
   "id": "2f5370ee-6759-4ed8-9099-a48693dcd3c3",
   "metadata": {},
   "source": [
    "11 Write a Python program to check if a string is empty or not using if-else.\n"
   ]
  },
  {
   "cell_type": "code",
   "execution_count": 16,
   "id": "0fc84ccf-aaca-4033-8b8a-86cdff9abbce",
   "metadata": {},
   "outputs": [
    {
     "name": "stdout",
     "output_type": "stream",
     "text": [
      "string is MADHURI\n"
     ]
    }
   ],
   "source": [
    "string=\"MADHURI\"\n",
    "if string==\"\":\n",
    "    print(\"string is empty\")\n",
    "else:\n",
    "    print(f\"string is {string}\")"
   ]
  },
  {
   "cell_type": "markdown",
   "id": "0182c4c6-e3ce-4555-a72c-98ddbf9efa50",
   "metadata": {},
   "source": [
    "12 Create a Python program that identifies the type of a triangle (e.g., equilateral, isosceles, or scalene) based on input values using if-else.\n"
   ]
  },
  {
   "cell_type": "code",
   "execution_count": 18,
   "id": "28da9d35-a193-49a5-842c-fbb10ae3bfe8",
   "metadata": {},
   "outputs": [
    {
     "name": "stdout",
     "output_type": "stream",
     "text": [
      "triangle is isosceles\n"
     ]
    }
   ],
   "source": [
    "a=10\n",
    "b=20\n",
    "c=20\n",
    "if a==b==c:\n",
    "    print(\"traingle is equilateral\")\n",
    "elif a!=b!=c:\n",
    "    print(\"triangle is scalene\")\n",
    "else:\n",
    "    print(\"triangle is isosceles\")"
   ]
  },
  {
   "cell_type": "markdown",
   "id": "fda681f4-5b1b-486e-b8b5-83e3f09e3b64",
   "metadata": {},
   "source": [
    "13 Write a Python program to determine the day of the week based on a user-provided number using if-else.\n"
   ]
  },
  {
   "cell_type": "code",
   "execution_count": 19,
   "id": "76869fff-6ac1-478c-bb83-f51424fa7383",
   "metadata": {},
   "outputs": [
    {
     "name": "stdin",
     "output_type": "stream",
     "text": [
      "enter the number 6\n"
     ]
    },
    {
     "name": "stdout",
     "output_type": "stream",
     "text": [
      "Friday\n"
     ]
    }
   ],
   "source": [
    "n=int(input(\"enter the number\"))\n",
    "if n==1:\n",
    "    print(\"Sunday\")\n",
    "elif n==2:\n",
    "    print(\"Monday\")\n",
    "elif n==3:\n",
    "    print(\"Tuesday\")\n",
    "elif n==4:\n",
    "    print(\"Wednesday\")\n",
    "elif n==5:\n",
    "    print(\"Thursday\")\n",
    "elif n==6:\n",
    "    print(\"Friday\")\n",
    "elif n==7:\n",
    "    print(\"Saturday\")\n",
    "else:\n",
    "    print(\"please enter proper input between 1-7\")\n",
    "    \n",
    "    "
   ]
  },
  {
   "cell_type": "markdown",
   "id": "88e9abb9-6d5f-4a8a-8e7b-e93772fccc5c",
   "metadata": {},
   "source": [
    "14 Create a Python program that checks if a given year is a leap year using both if-else and a function.\n"
   ]
  },
  {
   "cell_type": "code",
   "execution_count": 20,
   "id": "9ab9ebc5-c0d4-4bc3-83c0-86ccbba5ac17",
   "metadata": {},
   "outputs": [
    {
     "name": "stdin",
     "output_type": "stream",
     "text": [
      "enter the year 2012\n"
     ]
    },
    {
     "name": "stdout",
     "output_type": "stream",
     "text": [
      "given yr is leap yr\n"
     ]
    }
   ],
   "source": [
    "yr=int(input(\"enter the year\"))\n",
    "if (yr%4==0 and yr%100!=0) or (yr%400==0):\n",
    "    print(\"given yr is leap yr\")\n",
    "else:\n",
    "    print(\"given yr is not leap yr\")"
   ]
  },
  {
   "cell_type": "markdown",
   "id": "a85a5485-0300-45f5-8fea-85305c25640f",
   "metadata": {},
   "source": [
    "15 How do you use the \"assert\" statement in Python to add debugging checks within if-else blocks?\n"
   ]
  },
  {
   "cell_type": "code",
   "execution_count": null,
   "id": "5363bbc7-0445-42e5-93d9-2f2aee49f8ac",
   "metadata": {},
   "outputs": [],
   "source": []
  },
  {
   "cell_type": "markdown",
   "id": "ab767fda-9520-4a76-9c35-ff85164dddb6",
   "metadata": {},
   "source": [
    "16 Create a Python program that determines the eligibility of a person for a senior citizen discount based on age using if-else.\n"
   ]
  },
  {
   "cell_type": "code",
   "execution_count": 21,
   "id": "0c5b10c9-fe79-49e5-b703-f88cd914c4c9",
   "metadata": {},
   "outputs": [
    {
     "name": "stdin",
     "output_type": "stream",
     "text": [
      "enter the age 67\n"
     ]
    },
    {
     "name": "stdout",
     "output_type": "stream",
     "text": [
      "person is eligible for senior citizen discount\n"
     ]
    }
   ],
   "source": [
    "age=int(input(\"enter the age\"))\n",
    "if age>=58:\n",
    "    print(\"person is eligible for senior citizen discount\")\n",
    "else:\n",
    "    print(\"person is not eligible for senior citizen discount\")"
   ]
  },
  {
   "cell_type": "markdown",
   "id": "21daad5f-2329-40b5-a5e8-3e604158e9d2",
   "metadata": {},
   "source": [
    "17 Write a Python program to categorize a given character as uppercase, lowercase, or neither using if-else.\n"
   ]
  },
  {
   "cell_type": "code",
   "execution_count": 22,
   "id": "1925874f-631f-4195-8a02-e415cbeac25c",
   "metadata": {},
   "outputs": [
    {
     "name": "stdout",
     "output_type": "stream",
     "text": [
      "char is lowercase\n"
     ]
    }
   ],
   "source": [
    "char=\"data science\"\n",
    "if char.isupper():\n",
    "    print(\"char is uppercase\")\n",
    "elif char.islower():\n",
    "    print(\"char is lowercase\")\n",
    "else:\n",
    "    print(\"neither of two\")"
   ]
  },
  {
   "cell_type": "markdown",
   "id": "997e7ce4-fc98-4542-8749-c17254facd2d",
   "metadata": {},
   "source": [
    "18 Write a Python program to determine the roots of a quadratic equation using if-else."
   ]
  },
  {
   "cell_type": "code",
   "execution_count": 23,
   "id": "2cfad3ba-eeaa-4bb5-872e-7e12509ceb42",
   "metadata": {},
   "outputs": [
    {
     "name": "stdin",
     "output_type": "stream",
     "text": [
      "Enter coefficient a:  34\n",
      "Enter coefficient b:  23\n",
      "Enter coefficient c:  23\n"
     ]
    },
    {
     "name": "stdout",
     "output_type": "stream",
     "text": [
      "Roots are complex.\n",
      "Root 1: -0.3382352941176471 + 0.7497115939135816 i\n",
      "Root 2: -0.3382352941176471 - 0.7497115939135816 i\n"
     ]
    }
   ],
   "source": [
    "import math\n",
    "\n",
    "def quadratic_roots(a, b, c):\n",
    "    # Calculate discriminant\n",
    "    discriminant = b**2 - 4*a*c\n",
    "    \n",
    "    # If discriminant is positive, roots are real and different\n",
    "    if discriminant > 0:\n",
    "        root1 = (-b + math.sqrt(discriminant)) / (2*a)\n",
    "        root2 = (-b - math.sqrt(discriminant)) / (2*a)\n",
    "        print(\"Roots are real and different.\")\n",
    "        print(\"Root 1:\", root1)\n",
    "        print(\"Root 2:\", root2)\n",
    "    \n",
    "    # If discriminant is zero, roots are real and equal\n",
    "    elif discriminant == 0:\n",
    "        root = -b / (2*a)\n",
    "        print(\"Roots are real and equal.\")\n",
    "        print(\"Root:\", root)\n",
    "    \n",
    "    # If discriminant is negative, roots are complex\n",
    "    else:\n",
    "        real_part = -b / (2*a)\n",
    "        imaginary_part = math.sqrt(abs(discriminant)) / (2*a)\n",
    "        print(\"Roots are complex.\")\n",
    "        print(\"Root 1:\", real_part, \"+\", imaginary_part, \"i\")\n",
    "        print(\"Root 2:\", real_part, \"-\", imaginary_part, \"i\")\n",
    "\n",
    "# Test the function\n",
    "a = float(input(\"Enter coefficient a: \"))\n",
    "b = float(input(\"Enter coefficient b: \"))\n",
    "c = float(input(\"Enter coefficient c: \"))\n",
    "\n",
    "if a == 0:\n",
    "    print(\"This is not a quadratic equation.\")\n",
    "else:\n",
    "    quadratic_roots(a, b, c)\n"
   ]
  },
  {
   "cell_type": "markdown",
   "id": "0fcc9d6a-66bc-4022-88ee-cd78e66f3e0d",
   "metadata": {},
   "source": [
    "19 Create a Python program that checks if a given year is a century year or not using if-else.\n"
   ]
  },
  {
   "cell_type": "code",
   "execution_count": 2,
   "id": "79c3a5ae-c9de-4ea4-9396-78fb4bf36635",
   "metadata": {},
   "outputs": [
    {
     "name": "stdout",
     "output_type": "stream",
     "text": [
      "year is century year\n"
     ]
    }
   ],
   "source": [
    "year=3000\n",
    "if year%100==0:\n",
    "    print(\"year is century year\")\n",
    "else:\n",
    "    print(\"year is not a century year\")"
   ]
  },
  {
   "cell_type": "markdown",
   "id": "232b6428-1a46-43d7-abea-0223e502635e",
   "metadata": {},
   "source": [
    "20 Write a Python program to determine if a given number is a perfect square using if-else.\n"
   ]
  },
  {
   "cell_type": "code",
   "execution_count": 22,
   "id": "3b8c5b55-27a9-47c0-994e-04996220ba4a",
   "metadata": {},
   "outputs": [
    {
     "name": "stdout",
     "output_type": "stream",
     "text": [
      "number is not perfect square\n"
     ]
    }
   ],
   "source": [
    "def is_perfect_square(n):\n",
    "    if n>=0: \n",
    "        root=int(n**0.5)\n",
    "    return root*root==n\n",
    "if is_perfect_square(67):\n",
    "    print(\"number is perfect square\")\n",
    "else:\n",
    "    print(\"number is not perfect square\")"
   ]
  },
  {
   "cell_type": "markdown",
   "id": "656ec389-ed1f-4807-b25c-7df907450aff",
   "metadata": {},
   "source": [
    "21 Explain the purpose of the \"continue\" and \"break\" statements within if-else loops.\n"
   ]
  },
  {
   "cell_type": "markdown",
   "id": "e4f8c451-7035-472c-afb9-0b6f307bd8ab",
   "metadata": {},
   "source": [
    "'''Break statement stops the entire process of the loop. Continue statement only stops \n",
    "the current iteration of the loop. Break also terminates the remaining iterations. \n",
    "Continue doesn't terminate the next iterations; it resumes with the successive iterations.'''"
   ]
  },
  {
   "cell_type": "markdown",
   "id": "55d62cdc-188a-45a1-990e-bdab0727446a",
   "metadata": {},
   "source": [
    "22 Create a Python program that calculates the BMI (Body Mass Index) of a person based on their weight and height using if-else"
   ]
  },
  {
   "cell_type": "code",
   "execution_count": 24,
   "id": "154eab90-7c29-482c-867d-ba5847e62884",
   "metadata": {},
   "outputs": [
    {
     "name": "stdin",
     "output_type": "stream",
     "text": [
      "Enter your weight in kilograms:  67\n",
      "Enter your height in meters:  5.2\n"
     ]
    },
    {
     "name": "stdout",
     "output_type": "stream",
     "text": [
      "Your BMI is: 2.477810650887574\n",
      "You are classified as: Underweight\n"
     ]
    }
   ],
   "source": [
    "def calculate_bmi(weight_kg, height_m):\n",
    "    bmi = weight_kg / (height_m ** 2)\n",
    "    return bmi\n",
    "\n",
    "def interpret_bmi(bmi):\n",
    "    if bmi < 18.5:\n",
    "        return \"Underweight\"\n",
    "    elif 18.5 <= bmi < 25:\n",
    "        return \"Normal weight\"\n",
    "    elif 25 <= bmi < 30:\n",
    "        return \"Overweight\"\n",
    "    else:\n",
    "        return \"Obese\"\n",
    "\n",
    "# Test the program\n",
    "weight = float(input(\"Enter your weight in kilograms: \"))\n",
    "height = float(input(\"Enter your height in meters: \"))\n",
    "\n",
    "bmi = calculate_bmi(weight, height)\n",
    "print(\"Your BMI is:\", bmi)\n",
    "print(\"You are classified as:\", interpret_bmi(bmi))\n"
   ]
  },
  {
   "cell_type": "markdown",
   "id": "87c11d11-55c7-4115-bd78-34d1f77b4937",
   "metadata": {},
   "source": [
    "23 How can you use the \"filter()\" function with if-else statements to filter elements from a list?\n"
   ]
  },
  {
   "cell_type": "code",
   "execution_count": 36,
   "id": "d83d3e41-6234-4007-a419-a4963538f9bb",
   "metadata": {},
   "outputs": [
    {
     "data": {
      "text/plain": [
       "[2, 4, 6, 8]"
      ]
     },
     "execution_count": 36,
     "metadata": {},
     "output_type": "execute_result"
    }
   ],
   "source": [
    "l=range(1,10)\n",
    "\n",
    "list(filter(lambda x:x if x%2==0 else False,l))\n"
   ]
  },
  {
   "cell_type": "markdown",
   "id": "12add007-50fa-4dc6-89a4-d5fd3acc3627",
   "metadata": {},
   "source": [
    "24 Write a Python program to determine if a given number is prime or not using if-else.\n"
   ]
  },
  {
   "cell_type": "code",
   "execution_count": 19,
   "id": "8b43d116-5641-4eff-bb6c-cd65ed96aca4",
   "metadata": {},
   "outputs": [
    {
     "name": "stdout",
     "output_type": "stream",
     "text": [
      "number is prime\n"
     ]
    }
   ],
   "source": [
    "def is_prime(n):\n",
    "    for i in range(2,int(n**0.5)+1):\n",
    "        if n%i==0:\n",
    "            return False\n",
    "    return True\n",
    "if is_prime(7):\n",
    "    print(\"number is prime\")\n",
    "else:\n",
    "    print(\"number is not prime\")"
   ]
  },
  {
   "cell_type": "code",
   "execution_count": null,
   "id": "e6daf8d2-7ba5-4f3c-b503-aff18d77414b",
   "metadata": {},
   "outputs": [],
   "source": [
    "#map function"
   ]
  },
  {
   "cell_type": "markdown",
   "id": "948f304d-f7fa-4306-a19a-4f8932894ebe",
   "metadata": {},
   "source": [
    "1 Explain the purpose of the `map()` function in Python and provide an example of how it can be used to apply a function to each element of an iterable"
   ]
  },
  {
   "cell_type": "markdown",
   "id": "6bf28254-9118-45d1-9bc7-34e91f368673",
   "metadata": {},
   "source": [
    "'''Map in Python is a function that works as an iterator to return a result \n",
    "after applying a function to every item of an iterable (tuple, lists, etc.). \n",
    "It is used when you want to apply a single transformation function to all the\n",
    "iterable elements.The iterable and function are passed as arguments to the map in Python.'''"
   ]
  },
  {
   "cell_type": "markdown",
   "id": "cbea518f-6fed-49f8-a6e9-818711d81c00",
   "metadata": {},
   "source": [
    "2. Write a Python program that uses the `map()` function to square each element of a list of numbers."
   ]
  },
  {
   "cell_type": "code",
   "execution_count": 37,
   "id": "82985929-5b4f-4d6e-97cd-23cad4e2c537",
   "metadata": {},
   "outputs": [
    {
     "data": {
      "text/plain": [
       "[1, 4, 9, 16]"
      ]
     },
     "execution_count": 37,
     "metadata": {},
     "output_type": "execute_result"
    }
   ],
   "source": [
    "l=[1,2,3,4]\n",
    "list(map(lambda x:x**2,l))"
   ]
  },
  {
   "cell_type": "markdown",
   "id": "86811941-596e-4621-8079-a683abf86c2a",
   "metadata": {},
   "source": [
    "3'How does the `map()` function differ from a list comprehension in Python, and when would you choose one over the other?\n"
   ]
  },
  {
   "cell_type": "markdown",
   "id": "c0432633-231d-44af-9765-e9a1aa780899",
   "metadata": {},
   "source": [
    "List comprehension are used when a list of results is required as map only returns a map object and does not return any list. Map is faster in case of calling an already defined function (as no lambda is required)."
   ]
  },
  {
   "cell_type": "markdown",
   "id": "d246fd61-5894-4c05-997c-b01e3cba78f5",
   "metadata": {},
   "source": [
    "4.Create a Python program that uses the `map()` function to convert a list of names to uppercase.\n"
   ]
  },
  {
   "cell_type": "code",
   "execution_count": 38,
   "id": "f9ea6f32-8fe8-4034-95d5-e36154fa00b7",
   "metadata": {},
   "outputs": [
    {
     "data": {
      "text/plain": [
       "['DATA SCIENTIST', 'DATA ANALYST', 'BUSINESS ANALYST', 'CLOUD ARCHITECT']"
      ]
     },
     "execution_count": 38,
     "metadata": {},
     "output_type": "execute_result"
    }
   ],
   "source": [
    "l=['Data Scientist','Data Analyst','Business Analyst','Cloud Architect']\n",
    "list(map(lambda x:x.upper(),l))"
   ]
  },
  {
   "cell_type": "markdown",
   "id": "4c90f00f-ceb1-4e15-9427-f5b89fdbbdd8",
   "metadata": {},
   "source": [
    "4 Write a Python program that uses the `map()` function to calculate the length of each word in a list of strings."
   ]
  },
  {
   "cell_type": "code",
   "execution_count": 39,
   "id": "80dc576b-e7d0-4c65-9c2a-05e755b82a8f",
   "metadata": {},
   "outputs": [
    {
     "data": {
      "text/plain": [
       "[14, 12, 16, 15]"
      ]
     },
     "execution_count": 39,
     "metadata": {},
     "output_type": "execute_result"
    }
   ],
   "source": [
    "l=['DATA SCIENTIST', 'DATA ANALYST', 'BUSINESS ANALYST', 'CLOUD ARCHITECT']\n",
    "list(map(lambda x:len(x),l))"
   ]
  },
  {
   "cell_type": "markdown",
   "id": "9b23391f-e350-432d-8412-848dbd832619",
   "metadata": {},
   "source": [
    "How can you use the `map()` function to apply a custom function to elements of multiple lists simultaneously in Python?\n"
   ]
  },
  {
   "cell_type": "code",
   "execution_count": 40,
   "id": "6cb648b3-1582-47a3-b754-0fb65e36b4fa",
   "metadata": {},
   "outputs": [
    {
     "data": {
      "text/plain": [
       "[1, 4, 9, 16]"
      ]
     },
     "execution_count": 40,
     "metadata": {},
     "output_type": "execute_result"
    }
   ],
   "source": [
    "def square(x):\n",
    "    return x**2\n",
    "l=[1,2,3,4]\n",
    "list(map(square,l))"
   ]
  },
  {
   "cell_type": "markdown",
   "id": "70339bb8-515a-437b-919f-9f78f556e769",
   "metadata": {},
   "source": [
    "7 Create a Python program that uses `map()` to convert a list of temperatures from Celsius to Fahrenheit.\n"
   ]
  },
  {
   "cell_type": "code",
   "execution_count": 2,
   "id": "2a091f17-b947-48c1-8699-08527a53257f",
   "metadata": {},
   "outputs": [
    {
     "data": {
      "text/plain": [
       "[44.77777777777778, 50.888888888888886, 63.111111111111114, 75.33333333333334]"
      ]
     },
     "execution_count": 2,
     "metadata": {},
     "output_type": "execute_result"
    }
   ],
   "source": [
    "l=[23,34,56,78]\n",
    "def converter(T):\n",
    "    return (T*(5/9))+32\n",
    "list(map(converter,l))"
   ]
  },
  {
   "cell_type": "markdown",
   "id": "d10da464-a89b-4718-b34d-fe09486a6e87",
   "metadata": {},
   "source": [
    "8 Write a Python program that uses the `map()` function to round each element of a list of floating-point numbers to the nearest integer.\n"
   ]
  },
  {
   "cell_type": "code",
   "execution_count": 3,
   "id": "05532576-1278-4aa8-997e-c4f4629e4b91",
   "metadata": {},
   "outputs": [
    {
     "data": {
      "text/plain": [
       "[46, 99, 76, 35]"
      ]
     },
     "execution_count": 3,
     "metadata": {},
     "output_type": "execute_result"
    }
   ],
   "source": [
    "l=[45.8976,98.56,76.07,34.5674]\n",
    "def round_off(n):\n",
    "    return round(n)\n",
    "list(map(round,l))"
   ]
  },
  {
   "cell_type": "code",
   "execution_count": 1,
   "id": "74092d40-a54a-46f9-8df7-9064d8ec877a",
   "metadata": {},
   "outputs": [],
   "source": [
    "#reduce"
   ]
  },
  {
   "cell_type": "markdown",
   "id": "a5902580-dd39-4d28-9a1b-45c1560ef907",
   "metadata": {},
   "source": [
    "1 What is the `reduce()` function in Python, and what module should you import to use it? Provide an example of its basic usage."
   ]
  },
  {
   "cell_type": "markdown",
   "id": "57884d26-196c-4cda-8547-2d4b01a99ee6",
   "metadata": {},
   "source": [
    "The reduce() function is a powerful tool in Python that operates on a list (or any iterable), applies a function to its elements, and 'reduces' them to a single output. It's part of the functools module, which needs to be imported before you can use reduce() ."
   ]
  },
  {
   "cell_type": "markdown",
   "id": "ed726853-43e3-4103-9b8c-222fd88ce607",
   "metadata": {},
   "source": [
    "2. Write a Python program that uses the `reduce()` function to find the product of all elements in a list.\n"
   ]
  },
  {
   "cell_type": "code",
   "execution_count": 3,
   "id": "03fb536f-f65e-44d1-95c2-f27e2ca6ca8b",
   "metadata": {},
   "outputs": [
    {
     "data": {
      "text/plain": [
       "24"
      ]
     },
     "execution_count": 3,
     "metadata": {},
     "output_type": "execute_result"
    }
   ],
   "source": [
    "from functools import reduce\n",
    "l=[1,2,3,4]\n",
    "reduce(lambda a,b:a*b,l)"
   ]
  },
  {
   "cell_type": "markdown",
   "id": "25d8fad8-135f-4d7a-9b32-7bdae9c4164f",
   "metadata": {},
   "source": [
    "3 Create a Python program that uses `reduce()` to find the maximum element in a list of numbers.\n"
   ]
  },
  {
   "cell_type": "code",
   "execution_count": 4,
   "id": "03ebb311-30b9-4a40-83c2-245ba72bcdb0",
   "metadata": {},
   "outputs": [
    {
     "data": {
      "text/plain": [
       "7"
      ]
     },
     "execution_count": 4,
     "metadata": {},
     "output_type": "execute_result"
    }
   ],
   "source": [
    "l=[2,7,4,3,6]\n",
    "reduce(lambda a,b:a if a>b else b,l)"
   ]
  },
  {
   "cell_type": "markdown",
   "id": "60b83c2c-76bd-4c6e-ab60-3700a44e58e7",
   "metadata": {},
   "source": [
    "4 How can you use the `reduce()` function to concatenate a list of strings into a single string?\n"
   ]
  },
  {
   "cell_type": "code",
   "execution_count": 10,
   "id": "0734210c-4677-4f00-91a4-1d573402b0ea",
   "metadata": {},
   "outputs": [
    {
     "data": {
      "text/plain": [
       "'Madhuri'"
      ]
     },
     "execution_count": 10,
     "metadata": {},
     "output_type": "execute_result"
    }
   ],
   "source": [
    "l=['M','a','d','h','u','r','i']\n",
    "\n",
    "reduce(lambda x,y: x+y,l)"
   ]
  },
  {
   "cell_type": "markdown",
   "id": "51da819e-bacd-4d69-82f4-ec085fd5a538",
   "metadata": {},
   "source": [
    "5 Write a Python program that calculates the factorial of a number using the `reduce()` function.\n"
   ]
  },
  {
   "cell_type": "code",
   "execution_count": 4,
   "id": "8f1e1130-8510-4f46-ab7d-132ab322fbcb",
   "metadata": {},
   "outputs": [
    {
     "data": {
      "text/plain": [
       "120"
      ]
     },
     "execution_count": 4,
     "metadata": {},
     "output_type": "execute_result"
    }
   ],
   "source": [
    "n=5\n",
    "from functools import reduce\n",
    "reduce(lambda x,y:x*y,range(1,n+1))    "
   ]
  },
  {
   "cell_type": "markdown",
   "id": "a3b2d23d-48fe-4aec-9fdf-6029aa0e7c55",
   "metadata": {},
   "source": [
    "6 Create a Python program that uses `reduce()` to find the GCD (Greatest Common Divisor) of a list of numbers.\n"
   ]
  },
  {
   "cell_type": "code",
   "execution_count": 5,
   "id": "8a4cf811-df46-4255-a8c9-cd503cb564ae",
   "metadata": {},
   "outputs": [
    {
     "name": "stdout",
     "output_type": "stream",
     "text": [
      "GCD of [36, 48, 60] is: 12\n"
     ]
    }
   ],
   "source": [
    "from functools import reduce\n",
    "import math\n",
    "\n",
    "def gcd(a, b):\n",
    "    \"\"\"Function to compute the GCD of two numbers.\"\"\"\n",
    "    while b:\n",
    "        a, b = b, a % b\n",
    "    return a\n",
    "\n",
    "def gcd_of_list(numbers):\n",
    "    \"\"\"Function to find the GCD of a list of numbers.\"\"\"\n",
    "    return reduce(gcd, numbers)\n",
    "\n",
    "# Example usage:\n",
    "numbers = [36, 48, 60]\n",
    "result = gcd_of_list(numbers)\n",
    "print(\"GCD of\", numbers, \"is:\", result)\n"
   ]
  },
  {
   "cell_type": "markdown",
   "id": "f6c94f36-ec72-4ed0-a6ef-773e5a0869d5",
   "metadata": {},
   "source": [
    "7.Write a Python program that uses the `reduce()` function to find the sum of the digits of a given number.\n"
   ]
  },
  {
   "cell_type": "code",
   "execution_count": 7,
   "id": "4aa28813-7e3d-4264-8e06-2cbfdf4c9dba",
   "metadata": {},
   "outputs": [
    {
     "data": {
      "text/plain": [
       "4"
      ]
     },
     "execution_count": 7,
     "metadata": {},
     "output_type": "execute_result"
    }
   ],
   "source": [
    "\n",
    "def converter(n):\n",
    "    digits=[int(i) for i in str(n)]\n",
    "    sum1=reduce(lambda x,y:x+y,digits)\n",
    "    return sum1\n",
    "converter(121)"
   ]
  },
  {
   "cell_type": "code",
   "execution_count": 8,
   "id": "a5185c61-ea7d-4299-8215-03fca0d2c878",
   "metadata": {},
   "outputs": [],
   "source": [
    "#filter"
   ]
  },
  {
   "cell_type": "markdown",
   "id": "18365050-ada1-4c8d-8c5b-3914a8e05b44",
   "metadata": {},
   "source": [
    "1 Explain the purpose of the `filter()` function in Python and provide an example of how it can be used to filter elements from an iterable.\n"
   ]
  },
  {
   "cell_type": "markdown",
   "id": "70eacea1-97e4-487f-bf67-0d073e574a21",
   "metadata": {},
   "source": [
    "the `filter()` function furnishes an iterator that holds the elements that passed through the filter. In this example: Defining a custom function named \"is_even(x),\" we check whether a number is even, returning True for even numbers and False for odd ones."
   ]
  },
  {
   "cell_type": "code",
   "execution_count": 9,
   "id": "6c98635b-4f98-407d-9a1f-360851e2d534",
   "metadata": {},
   "outputs": [
    {
     "data": {
      "text/plain": [
       "[2, 4, 6, 8, 10, 12, 14, 16, 18]"
      ]
     },
     "execution_count": 9,
     "metadata": {},
     "output_type": "execute_result"
    }
   ],
   "source": [
    "list(filter(lambda x:x%2==0,range(1,20)))"
   ]
  },
  {
   "cell_type": "markdown",
   "id": "b4ca8d25-d688-4ec6-b4d0-f163fbca3f2a",
   "metadata": {},
   "source": [
    "2 Write a Python program that uses the `filter()` function to select even numbers from a list of integers.\n"
   ]
  },
  {
   "cell_type": "code",
   "execution_count": 10,
   "id": "685c5cb1-a716-4e3b-84e6-852c9bedaf74",
   "metadata": {},
   "outputs": [
    {
     "data": {
      "text/plain": [
       "[2, 4, 6, 8, 10, 12, 14, 16, 18]"
      ]
     },
     "execution_count": 10,
     "metadata": {},
     "output_type": "execute_result"
    }
   ],
   "source": [
    "list(filter(lambda x:x%2==0,range(1,20)))"
   ]
  },
  {
   "cell_type": "markdown",
   "id": "1457eb9c-14cb-4b94-aee3-4d76d48f5672",
   "metadata": {},
   "source": [
    "3 Create a Python program that uses the `filter()` function to select names that start with a specific letter from a list of strings."
   ]
  },
  {
   "cell_type": "code",
   "execution_count": 11,
   "id": "bb7f4fc1-9432-4933-a145-0674f98f3545",
   "metadata": {},
   "outputs": [
    {
     "data": {
      "text/plain": [
       "['taaha']"
      ]
     },
     "execution_count": 11,
     "metadata": {},
     "output_type": "execute_result"
    }
   ],
   "source": [
    "l=['python','taaha','shirlin','pikachu']\n",
    "list(filter(lambda x:x.startswith('t'),l))"
   ]
  },
  {
   "cell_type": "markdown",
   "id": "4776a8b5-03a6-4b02-8920-31d2da06fd52",
   "metadata": {},
   "source": [
    "4 Write a Python program that uses the `filter()` function to select prime numbers from a list of integers.\n"
   ]
  },
  {
   "cell_type": "code",
   "execution_count": 18,
   "id": "7fbc8a4d-7e38-449d-9101-7ba7422573de",
   "metadata": {},
   "outputs": [
    {
     "data": {
      "text/plain": [
       "[45, 23, 87]"
      ]
     },
     "execution_count": 18,
     "metadata": {},
     "output_type": "execute_result"
    }
   ],
   "source": [
    "def prime(n):\n",
    "    for i in range(2,int(n**0.5)+1):\n",
    "        if n%i==0:\n",
    "            return False\n",
    "        return True\n",
    "l=[45,23,78,2,87]\n",
    "list(filter(prime,l))"
   ]
  },
  {
   "cell_type": "markdown",
   "id": "34fd9ebe-9798-4ae6-af43-795c4e51adab",
   "metadata": {},
   "source": [
    "5 How can you use the `filter()` function to remove None values from a list in Python?\n",
    " "
   ]
  },
  {
   "cell_type": "code",
   "execution_count": 21,
   "id": "ed871a28-4de3-45b4-aa29-f362f3a008d7",
   "metadata": {},
   "outputs": [
    {
     "data": {
      "text/plain": [
       "[5, 'a', 8, 't']"
      ]
     },
     "execution_count": 21,
     "metadata": {},
     "output_type": "execute_result"
    }
   ],
   "source": [
    "p=[5,'a',None,8,'t']\n",
    "list(filter(lambda x:x  is not None,p))"
   ]
  },
  {
   "cell_type": "markdown",
   "id": "c856b212-6efd-4dc8-96a4-f60d89932d71",
   "metadata": {},
   "source": [
    "6 Create a Python program that uses `filter()` to select words longer than a certain length from a list of strings.\n"
   ]
  },
  {
   "cell_type": "code",
   "execution_count": 25,
   "id": "f2a8c5b7-9b1a-4e5f-8efc-67f582ad3e19",
   "metadata": {},
   "outputs": [
    {
     "data": {
      "text/plain": [
       "['Tuesday', 'Wednesday', 'Thursday', 'Saturday']"
      ]
     },
     "execution_count": 25,
     "metadata": {},
     "output_type": "execute_result"
    }
   ],
   "source": [
    "l=['Sunday','Monday','Tuesday','Wednesday','Thursday','Friday','Saturday']\n",
    "list(filter(lambda x:len(x)>6,l))"
   ]
  },
  {
   "cell_type": "markdown",
   "id": "e8639bb0-a97b-42b5-991c-803172a297e1",
   "metadata": {},
   "source": [
    "7 Write a Python program that uses the `filter()` function to select elements greater than a specified threshold from a list of values."
   ]
  },
  {
   "cell_type": "code",
   "execution_count": 26,
   "id": "c687d88a-b8a6-49b4-9e30-b3d38f811bf6",
   "metadata": {},
   "outputs": [
    {
     "data": {
      "text/plain": [
       "[6, 7, 8, 9]"
      ]
     },
     "execution_count": 26,
     "metadata": {},
     "output_type": "execute_result"
    }
   ],
   "source": [
    "l=[1,2,3,4,5,6,7,8,9]\n",
    "list(filter(lambda x:x>5,l))"
   ]
  },
  {
   "cell_type": "code",
   "execution_count": 27,
   "id": "abc6c512-32b1-4a7f-a02a-48f6267b166b",
   "metadata": {},
   "outputs": [],
   "source": [
    "#recursion"
   ]
  },
  {
   "cell_type": "markdown",
   "id": "4edc73a0-bd45-4feb-8226-a524605f76b7",
   "metadata": {},
   "source": [
    "1 Explain the concept of recursion in Python. How does it differ from iteration?\n"
   ]
  },
  {
   "cell_type": "markdown",
   "id": "2858ec18-d66c-4b1a-a3aa-0594485f8f15",
   "metadata": {},
   "source": [
    "Recursion is a technique in which the function calls itself in its body to solve the problem, typically breaking into smaller and more manageable sub-problems. In contrast, iteration is a technique that repetitively executes a code block until the condition is unmet."
   ]
  },
  {
   "cell_type": "markdown",
   "id": "7197c327-23cb-4d39-94c1-37399600bbd7",
   "metadata": {},
   "source": [
    "2 Write a Python program to calculate the factorial of a number using recursion."
   ]
  },
  {
   "cell_type": "code",
   "execution_count": 41,
   "id": "d583b565-e2b8-4fdb-95e0-0fcff7030ac1",
   "metadata": {},
   "outputs": [
    {
     "data": {
      "text/plain": [
       "24"
      ]
     },
     "execution_count": 41,
     "metadata": {},
     "output_type": "execute_result"
    }
   ],
   "source": [
    "def factorial(n):\n",
    "    if n<0:\n",
    "        print(\"enter positive integer\")\n",
    "    elif n==0:\n",
    "        return 1\n",
    "    else:\n",
    "        return n*factorial(n-1)\n",
    "factorial(4)"
   ]
  },
  {
   "cell_type": "markdown",
   "id": "20ade751-ecca-4f82-a1b4-d7195334a150",
   "metadata": {},
   "source": [
    "3 Create a recursive Python function to find the nth Fibonacci number."
   ]
  },
  {
   "cell_type": "code",
   "execution_count": 42,
   "id": "553b1014-5beb-4038-8252-1f0a9af75109",
   "metadata": {},
   "outputs": [
    {
     "name": "stdout",
     "output_type": "stream",
     "text": [
      "34\n"
     ]
    }
   ],
   "source": [
    "def fibonacci(n):\n",
    "    if n <= 0:\n",
    "        return \"Input should be a positive integer\"\n",
    "    elif n == 1:\n",
    "        return 0\n",
    "    elif n == 2:\n",
    "        return 1\n",
    "    else:\n",
    "        return fibonacci(n - 1) + fibonacci(n - 2)\n",
    "\n",
    "# Calling the fibonacci function\n",
    "print(fibonacci(10))  # Output will be 34\n"
   ]
  },
  {
   "cell_type": "markdown",
   "id": "e63ac8a7-0adf-40f2-8d6c-5ef426dba523",
   "metadata": {},
   "source": [
    "4 Write a recursive Python function to calculate the sum of all elements in a list.\n"
   ]
  },
  {
   "cell_type": "code",
   "execution_count": 44,
   "id": "34e19d8f-9b44-4238-bb68-c71e9cb17d5b",
   "metadata": {},
   "outputs": [
    {
     "data": {
      "text/plain": [
       "10"
      ]
     },
     "execution_count": 44,
     "metadata": {},
     "output_type": "execute_result"
    }
   ],
   "source": [
    "def addition(n):\n",
    "    if n==0 or n==1:\n",
    "        return 1\n",
    "    else:\n",
    "        return n+addition(n-1)\n",
    "addition(4)    "
   ]
  },
  {
   "cell_type": "markdown",
   "id": "6c0d8559-6c23-4dee-ae1e-26e0f2ca5252",
   "metadata": {},
   "source": [
    "5 How can you prevent a recursive function from running indefinitely, causing a stack overflow error?"
   ]
  },
  {
   "cell_type": "markdown",
   "id": "f0fedaab-d90f-4212-95b2-16aa8a2beb35",
   "metadata": {},
   "source": [
    "Always define a clear base case for your recursive function to stop calling itself. Without a base case, or if the base case is never reached due to incorrect logic, the recursion will continue indefinitely, leading to a stack overflow."
   ]
  },
  {
   "cell_type": "markdown",
   "id": "8d8f32a8-8178-44fa-9605-87e423e7de98",
   "metadata": {},
   "source": [
    "6 Create a recursive Python function to find the greatest common divisor (GCD) of two numbers using the Euclidean algorithm."
   ]
  },
  {
   "cell_type": "code",
   "execution_count": 45,
   "id": "b2cf14d2-628c-4d3a-9757-f14c8f6b9cff",
   "metadata": {},
   "outputs": [
    {
     "name": "stdout",
     "output_type": "stream",
     "text": [
      "6\n"
     ]
    }
   ],
   "source": [
    "def gcd(a, b):\n",
    "    if b == 0:\n",
    "        return a\n",
    "    else:\n",
    "        return gcd(b, a % b)\n",
    "\n",
    "# Calling the gcd function\n",
    "print(gcd(48, 18))  # Output will be 6\n"
   ]
  },
  {
   "cell_type": "markdown",
   "id": "c85b8083-727e-4095-88cb-fdc3b82040a1",
   "metadata": {},
   "source": [
    "7 Write a recursive Python function to reverse a string.\n"
   ]
  },
  {
   "cell_type": "code",
   "execution_count": 46,
   "id": "e5276fd8-1225-47af-b69c-adaf6f1f37c7",
   "metadata": {},
   "outputs": [
    {
     "name": "stdout",
     "output_type": "stream",
     "text": [
      "Original string: Hello, World!\n",
      "Reversed string: !dlroW ,olleH\n"
     ]
    }
   ],
   "source": [
    "def reverse_string(s):\n",
    "    if len(s) == 0:\n",
    "        return s\n",
    "    else:\n",
    "        return reverse_string(s[1:]) + s[0]\n",
    "\n",
    "# Example usage\n",
    "input_string = \"Hello, World!\"\n",
    "print(\"Original string:\", input_string)\n",
    "print(\"Reversed string:\", reverse_string(input_string))\n"
   ]
  },
  {
   "cell_type": "markdown",
   "id": "9a2a27b5-4361-4dde-88f6-a00aefcaa524",
   "metadata": {},
   "source": [
    "8 Create a recursive Python function to calculate the power of a number (x^n)"
   ]
  },
  {
   "cell_type": "code",
   "execution_count": 47,
   "id": "d8a8e6d3-811c-4432-a1db-73315d2b0839",
   "metadata": {},
   "outputs": [
    {
     "name": "stdout",
     "output_type": "stream",
     "text": [
      "Result: 32\n"
     ]
    }
   ],
   "source": [
    "def power(x, n):\n",
    "    if n == 0:\n",
    "        return 1\n",
    "    elif n < 0:\n",
    "        return 1 / power(x, -n)\n",
    "    else:\n",
    "        return x * power(x, n - 1)\n",
    "\n",
    "# Example usage\n",
    "base = 2\n",
    "exponent = 5\n",
    "print(\"Result:\", power(base, exponent))\n"
   ]
  },
  {
   "cell_type": "markdown",
   "id": "b83cddc8-d948-4011-83f2-011d50aa482e",
   "metadata": {},
   "source": [
    "9 Write a recursive Python function to find all permutations of a given string.\n"
   ]
  },
  {
   "cell_type": "code",
   "execution_count": 48,
   "id": "23a60d2b-8527-409f-a901-f4410b5d6b6a",
   "metadata": {},
   "outputs": [
    {
     "name": "stdout",
     "output_type": "stream",
     "text": [
      "Permutations of 'abc' are:\n",
      "['abc', 'acb', 'bac', 'bca', 'cab', 'cba']\n"
     ]
    }
   ],
   "source": [
    "def permutations(s):\n",
    "    if len(s) == 1:\n",
    "        return [s]\n",
    "\n",
    "    perms = []\n",
    "    for i, char in enumerate(s):\n",
    "        for perm in permutations(s[:i] + s[i+1:]):\n",
    "            perms.append(char + perm)\n",
    "\n",
    "    return perms\n",
    "\n",
    "# Example usage\n",
    "input_string = \"abc\"\n",
    "print(\"Permutations of '{}' are:\".format(input_string))\n",
    "print(permutations(input_string))\n"
   ]
  },
  {
   "cell_type": "markdown",
   "id": "1eba6c9c-09d2-4e39-a7ae-1330136ee60f",
   "metadata": {},
   "source": [
    "10 Write a recursive Python function to check if a string is a palindrome.\n"
   ]
  },
  {
   "cell_type": "code",
   "execution_count": 49,
   "id": "be6ee626-ccb0-4607-beab-a1bd71804d79",
   "metadata": {},
   "outputs": [
    {
     "name": "stdout",
     "output_type": "stream",
     "text": [
      "Is 'radar' a palindrome?\n",
      "True\n",
      "Is 'hello' a palindrome?\n",
      "False\n"
     ]
    }
   ],
   "source": [
    "def is_palindrome(s):\n",
    "    # Base case: If the string is empty or has only one character, it's a palindrome\n",
    "    if len(s) <= 1:\n",
    "        return True\n",
    "    # Recursive case: Check if the first and last characters are the same,\n",
    "    # and recursively check the substring between them\n",
    "    if s[0] == s[-1]:\n",
    "        return is_palindrome(s[1:-1])\n",
    "    else:\n",
    "        return False\n",
    "\n",
    "# Example usage\n",
    "input_string = \"radar\"\n",
    "print(\"Is '{}' a palindrome?\".format(input_string))\n",
    "print(is_palindrome(input_string))  # Output: True\n",
    "\n",
    "input_string = \"hello\"\n",
    "print(\"Is '{}' a palindrome?\".format(input_string))\n",
    "print(is_palindrome(input_string))  # Output: False\n"
   ]
  },
  {
   "cell_type": "markdown",
   "id": "5bc0e1b4-68b7-47f8-b4b3-5aeb2b317d40",
   "metadata": {},
   "source": [
    "11 Create a recursive Python function to generate all possible combinations of a list of elements.\n"
   ]
  },
  {
   "cell_type": "code",
   "execution_count": 50,
   "id": "96a7568f-b649-4112-ba43-06714cdce894",
   "metadata": {},
   "outputs": [
    {
     "name": "stdout",
     "output_type": "stream",
     "text": [
      "All possible combinations of [1, 2, 3]:\n",
      "[[], [3], [2], [2, 3], [1], [1, 3], [1, 2], [1, 2, 3]]\n"
     ]
    }
   ],
   "source": [
    "def combinations(lst):\n",
    "    if len(lst) == 0:\n",
    "        return [[]]  # Base case: return a list containing an empty list\n",
    "\n",
    "    # Recursive case: combine the first element with all combinations of the rest of the list\n",
    "    head = lst[0]\n",
    "    tail_combinations = combinations(lst[1:])\n",
    "    return tail_combinations + [[head] + tail for tail in tail_combinations]\n",
    "\n",
    "# Example usage\n",
    "input_list = [1, 2, 3]\n",
    "print(\"All possible combinations of {}:\".format(input_list))\n",
    "print(combinations(input_list))\n"
   ]
  },
  {
   "cell_type": "code",
   "execution_count": 1,
   "id": "1ae68ce3-5d0d-4100-8342-7911b3c5ad75",
   "metadata": {},
   "outputs": [],
   "source": [
    "#functions"
   ]
  },
  {
   "cell_type": "markdown",
   "id": "2c32edf9-e1d9-4ecd-a516-57689c2cdfbc",
   "metadata": {},
   "source": [
    "1 What is a function in Python, and why is it used?"
   ]
  },
  {
   "cell_type": "markdown",
   "id": "c51cbcda-34ee-4936-9c4b-5c02c6ed1cfb",
   "metadata": {},
   "source": [
    "Functions in Python. You use functions in programming to bundle a set of instructions that you want to use repeatedly or that, because of their complexity, are better self-contained in a sub-program and called when needed. That means that a function is a piece of code written to carry out a specified task"
   ]
  },
  {
   "cell_type": "markdown",
   "id": "5e5429ee-7dd8-4427-88e5-8f508e2a7911",
   "metadata": {},
   "source": [
    "2 How do you define a function in Python? Provide an example."
   ]
  },
  {
   "cell_type": "markdown",
   "id": "feff39dc-b00c-4cd3-8d50-30081c600369",
   "metadata": {},
   "source": [
    "#functions are defined by using def kewword"
   ]
  },
  {
   "cell_type": "code",
   "execution_count": 2,
   "id": "138f73b5-75ec-4e74-82a2-6da994654465",
   "metadata": {},
   "outputs": [
    {
     "data": {
      "text/plain": [
       "5"
      ]
     },
     "execution_count": 2,
     "metadata": {},
     "output_type": "execute_result"
    }
   ],
   "source": [
    "def addition(a,b):\n",
    "    return a+b\n",
    "addition(2,3)"
   ]
  },
  {
   "cell_type": "markdown",
   "id": "362785d4-7f3c-456b-9815-05b11781964c",
   "metadata": {},
   "source": [
    "3 Explain the difference between a function definition and a function call."
   ]
  },
  {
   "cell_type": "markdown",
   "id": "52306776-51f8-44f0-a428-85fff38f8c27",
   "metadata": {},
   "source": [
    " Defining a function means specifying its parameters, and, inside of it its body, writing the code to be executed. A defined function is useless on its own without it being called. Calling a function means having it actually execute"
   ]
  },
  {
   "cell_type": "markdown",
   "id": "ff0c0a21-f4fa-452f-8b47-2bcc8efd6507",
   "metadata": {},
   "source": [
    "4 Write a Python program that defines a function to calculate the sum of two numbers and then calls the function."
   ]
  },
  {
   "cell_type": "code",
   "execution_count": 3,
   "id": "e5bcd75e-302e-4f8b-a8f3-f338332dedc1",
   "metadata": {},
   "outputs": [
    {
     "data": {
      "text/plain": [
       "5"
      ]
     },
     "execution_count": 3,
     "metadata": {},
     "output_type": "execute_result"
    }
   ],
   "source": [
    "def addition(a,b):\n",
    "    return a+b\n",
    "addition(2,3)"
   ]
  },
  {
   "cell_type": "markdown",
   "id": "dc5e5aa5-7810-4008-bc91-ea921b774086",
   "metadata": {},
   "source": [
    "5 What is a function signature, and what information does it typically include?"
   ]
  },
  {
   "cell_type": "markdown",
   "id": "0f0ee5bb-a860-44a3-9b68-aac82ec90c13",
   "metadata": {},
   "source": [
    "A function signature consists of the function prototype. It specifies the general information about a function like the name, scope and parameters. Many programming languages use name mangling in order to pass along more semantic information from the compilers to the linkers."
   ]
  },
  {
   "cell_type": "markdown",
   "id": "76d4dec5-6576-40e5-9fa6-28916c4da936",
   "metadata": {},
   "source": [
    "6.Create a Python function that takes two arguments and returns their product.\n"
   ]
  },
  {
   "cell_type": "code",
   "execution_count": 4,
   "id": "c6068cfb-b73a-4f6e-810a-57c219efb609",
   "metadata": {},
   "outputs": [
    {
     "data": {
      "text/plain": [
       "782"
      ]
     },
     "execution_count": 4,
     "metadata": {},
     "output_type": "execute_result"
    }
   ],
   "source": [
    "def product(a,b):\n",
    "    return a*b\n",
    "product(23,34)"
   ]
  },
  {
   "cell_type": "code",
   "execution_count": 2,
   "id": "38385187-d332-4727-b90b-ea9e7f3275d7",
   "metadata": {},
   "outputs": [],
   "source": [
    "#Function Parameters and Arguments:\n"
   ]
  },
  {
   "cell_type": "markdown",
   "id": "2b96dafd-eb20-4186-b85c-75163cd65099",
   "metadata": {},
   "source": [
    "1 Explain the concepts of formal parameters and actual arguments in Python functions"
   ]
  },
  {
   "cell_type": "markdown",
   "id": "7909365a-084d-4b46-9de4-b370bbc2bdd3",
   "metadata": {},
   "source": [
    "Actual Parameters vary from Formal Parameters in that Actual Parameters are values supplied to the function when it is invoked, whereas Formal Parameters are variables declared by the function that get values when the function is called."
   ]
  },
  {
   "cell_type": "markdown",
   "id": "8c887e71-5838-4e19-a6d7-470d4e08f42a",
   "metadata": {},
   "source": [
    "2 Write a Python program that defines a function with default argument values.\n"
   ]
  },
  {
   "cell_type": "code",
   "execution_count": 5,
   "id": "c8809892-881e-4baf-8340-f89d6fa55547",
   "metadata": {},
   "outputs": [
    {
     "data": {
      "text/plain": [
       "121"
      ]
     },
     "execution_count": 5,
     "metadata": {},
     "output_type": "execute_result"
    }
   ],
   "source": [
    "def addition(a,b,c=86):\n",
    "    return a+b+c\n",
    "addition(23,12)"
   ]
  },
  {
   "cell_type": "markdown",
   "id": "ae9268b6-17a7-4e6e-b749-56498008522f",
   "metadata": {},
   "source": [
    "3 How do you use keyword arguments in Python function calls? Provide an example.\n"
   ]
  },
  {
   "cell_type": "markdown",
   "id": "5b5332e2-4e23-4fac-a192-3f6a333f9601",
   "metadata": {},
   "source": [
    "Keyword arguments (or named arguments) are values that, when passed into a function, are identifiable by specific parameter names. A keyword argument is preceded by a parameter and the assignment operator, = . Keyword arguments can be likened to dictionaries in that they map a value to a keyword."
   ]
  },
  {
   "cell_type": "code",
   "execution_count": 6,
   "id": "6c966d82-8385-49d9-877a-635abe81cb29",
   "metadata": {},
   "outputs": [
    {
     "name": "stdout",
     "output_type": "stream",
     "text": [
      "The youngest child is Linus\n"
     ]
    }
   ],
   "source": [
    "def my_function(child3, child2, child1):\n",
    "    print(\"The youngest child is \" + child3)\n",
    "\n",
    "my_function(child1 = \"Emil\", child2 = \"Tobias\", child3 = \"Linus\")"
   ]
  },
  {
   "cell_type": "markdown",
   "id": "d2133a8b-87ce-439e-8c92-c732142e866d",
   "metadata": {},
   "source": [
    "4 Create a Python function that accepts a variable number of arguments and calculates their sum.\n"
   ]
  },
  {
   "cell_type": "code",
   "execution_count": 10,
   "id": "04978813-1603-4685-9a5f-5ebe14ea09c5",
   "metadata": {},
   "outputs": [
    {
     "name": "stdout",
     "output_type": "stream",
     "text": [
      "(1, 2, 3, 4, 5, 10, 20, 30)\n",
      "Multiplication of all numbers is : 720000\n"
     ]
    }
   ],
   "source": [
    "def multiplication(*args): # Tuple format\n",
    "    mul = 1\n",
    "    for i in args:\n",
    "        mul*=i\n",
    "    return mul\n",
    "     \n",
    "mul = multiplication(1,2,3,4,5,10,20,30)\n",
    "print(\"Multiplication of all numbers is :\",mul)  "
   ]
  },
  {
   "cell_type": "markdown",
   "id": "42134227-b56a-4752-9986-5176bf05def8",
   "metadata": {},
   "source": [
    "5 What is the purpose of the `*args` and `**kwargs` syntax in function parameter lists?\n",
    "\n"
   ]
  },
  {
   "cell_type": "markdown",
   "id": "61e9df5a-e44e-4678-b474-1b8d4dd629bd",
   "metadata": {},
   "source": [
    "*args specifies the number of non-keyworded arguments that can be passed and the operations that can be performed on the function in Python whereas **kwargs is a variable number of keyword arguments that can be passed to a function that can perform dictionary operations"
   ]
  },
  {
   "cell_type": "code",
   "execution_count": 3,
   "id": "cf10cc2e-ffcd-428f-955a-832faa8211d8",
   "metadata": {},
   "outputs": [],
   "source": [
    "#Return Values and Scoping"
   ]
  },
  {
   "cell_type": "markdown",
   "id": "04b34242-23d2-48d1-be10-4a67ddbe7416",
   "metadata": {},
   "source": [
    "1 Describe the role of the `return` statement in Python functions and provide examples.\n"
   ]
  },
  {
   "cell_type": "markdown",
   "id": "0035c857-9e76-4a83-b203-3c98a6b7906a",
   "metadata": {},
   "source": [
    "The python return statement is used to return the output from a function. We learned that we can also return a function from another function. Also, expressions are evaluated and then the result is returned from the function."
   ]
  },
  {
   "cell_type": "markdown",
   "id": "ca298585-26ad-4f00-ae91-6c247a3c35bc",
   "metadata": {},
   "source": [
    "2 Explain the concept of variable scope in Python, including local and global variables.\n"
   ]
  },
  {
   "cell_type": "markdown",
   "id": "0c64b9d3-91bb-43a7-ba30-c7ec834ad4c8",
   "metadata": {},
   "source": [
    "Python Global variables are those which are not defined inside any function and have a global scope whereas Python local variables are those which are defined inside a function and their scope is limited to that function only"
   ]
  },
  {
   "cell_type": "markdown",
   "id": "b5d2052e-1660-4b22-96c5-c8cdb79e0386",
   "metadata": {},
   "source": [
    "3 Write a Python program that demonstrates the use of global variables within functions."
   ]
  },
  {
   "cell_type": "code",
   "execution_count": 12,
   "id": "d47f59f2-1805-45d0-bf7a-c0fbc6987e32",
   "metadata": {},
   "outputs": [
    {
     "data": {
      "text/plain": [
       "12"
      ]
     },
     "execution_count": 12,
     "metadata": {},
     "output_type": "execute_result"
    }
   ],
   "source": [
    "a=7\n",
    "def addition(b,c):\n",
    "    return a+b+c\n",
    "addition(2,3)"
   ]
  },
  {
   "cell_type": "markdown",
   "id": "140350f4-41df-476f-9d87-c5a4c46b6ac7",
   "metadata": {},
   "source": [
    "4 Create a Python function that calculates the factorial of a number and returns it.\n"
   ]
  },
  {
   "cell_type": "code",
   "execution_count": 20,
   "id": "4d55a325-7228-44d0-aec0-75a4cdb9722d",
   "metadata": {},
   "outputs": [
    {
     "data": {
      "text/plain": [
       "24"
      ]
     },
     "execution_count": 20,
     "metadata": {},
     "output_type": "execute_result"
    }
   ],
   "source": [
    "def factorial(n):\n",
    "    fact=1\n",
    "    if n<0:\n",
    "        print(\"enter positive number\")\n",
    "    elif n==0:\n",
    "        return 1\n",
    "    else:\n",
    "        for i in range(1,n+1):\n",
    "            fact*=i\n",
    "        return fact\n",
    "\n",
    "factorial(4)"
   ]
  },
  {
   "cell_type": "markdown",
   "id": "9f4a05e7-05f8-49b4-9f8b-67b1edf91be1",
   "metadata": {},
   "source": [
    "5 How can you access variables defined outside a function from within the function?\n"
   ]
  },
  {
   "cell_type": "markdown",
   "id": "9bf3daf5-ba0c-49e1-8e8e-a77c82e743aa",
   "metadata": {},
   "source": [
    "Local Variables cannot be accessed outside the function but Global Variables can be accessed within the function. Also, we can use a Global Keyword to access the local variables outside the function. If the variable is declared within the nested function then we can use keyword nonlocal in python."
   ]
  },
  {
   "cell_type": "code",
   "execution_count": 4,
   "id": "8439bd63-d9e1-4a1d-ba5d-3e0fd0b2d5f0",
   "metadata": {},
   "outputs": [],
   "source": [
    "#Lambda Functions and Higher-Order Functions:\n"
   ]
  },
  {
   "cell_type": "markdown",
   "id": "52f41f49-1c5a-4c63-a8a7-1cda347eaa9f",
   "metadata": {},
   "source": [
    "1 What are lambda functions in Python, and when are they typically used?\n"
   ]
  },
  {
   "cell_type": "markdown",
   "id": "535aec45-57f6-4e23-8e17-1b4f823a993d",
   "metadata": {},
   "source": [
    "We use lambda functions once we require a nameless function for a brief period of your time. In Python, we generally use Lambda Functions as an argument to a higher-order function (a function that takes in other functions as arguments)."
   ]
  },
  {
   "cell_type": "markdown",
   "id": "968aee3e-a1ee-4b4a-afbf-85c7a197c2a1",
   "metadata": {},
   "source": [
    "2 Write a Python program that uses lambda functions to sort a list of tuples based on the second element.\n"
   ]
  },
  {
   "cell_type": "code",
   "execution_count": 21,
   "id": "b6566c47-04df-445c-b9c5-60e7e4255ffb",
   "metadata": {},
   "outputs": [
    {
     "name": "stdout",
     "output_type": "stream",
     "text": [
      "[(5, 0), (4, 1), (2, 2), (1, 3)]\n"
     ]
    }
   ],
   "source": [
    "# List of tuples\n",
    "tuples_list = [(1, 3), (4, 1), (2, 2), (5, 0)]\n",
    "\n",
    "# Sorting the list of tuples based on the second element using a lambda function\n",
    "sorted_list = sorted(tuples_list, key=lambda x: x[1])\n",
    "\n",
    "# Printing the sorted list\n",
    "print(sorted_list)\n"
   ]
  },
  {
   "cell_type": "markdown",
   "id": "4323f6ae-d158-42f4-bebe-b3142f4957a0",
   "metadata": {},
   "source": [
    "3 Explain the concept of higher-order functions in Python, and provide an example."
   ]
  },
  {
   "cell_type": "markdown",
   "id": "307f6255-d37f-43d2-afb1-a2de6f78246a",
   "metadata": {},
   "source": [
    "A function is called Higher Order Function if it contains other functions as a parameter or returns a function as an output i.e, the functions that operate with another function are known as Higher order Functions. "
   ]
  },
  {
   "cell_type": "code",
   "execution_count": 22,
   "id": "8203f794-784c-4ff7-b166-62740511c950",
   "metadata": {},
   "outputs": [
    {
     "name": "stdout",
     "output_type": "stream",
     "text": [
      "HELLO\n",
      "HELLO\n"
     ]
    }
   ],
   "source": [
    "# Python program to illustrate functions  \n",
    "# can be treated as objects  \n",
    "def shout(text):  \n",
    "    return text.upper()  \n",
    "    \n",
    "print(shout('Hello'))  \n",
    "    \n",
    "# Assigning function to a variable \n",
    "yell = shout  \n",
    "    \n",
    "print(yell('Hello')) "
   ]
  },
  {
   "cell_type": "markdown",
   "id": "7294fa41-4921-4cad-97f8-c131f2f23052",
   "metadata": {},
   "source": [
    "4 Create a Python function that takes a list of numbers and a function as arguments, applying the function to each element in the list.\n"
   ]
  },
  {
   "cell_type": "code",
   "execution_count": 26,
   "id": "5831143c-f1ad-4aef-86d3-202740268aae",
   "metadata": {},
   "outputs": [
    {
     "name": "stdout",
     "output_type": "stream",
     "text": [
      "[1, 4, 9, 16]\n"
     ]
    }
   ],
   "source": [
    "def square(x):\n",
    "    return x ** 2\n",
    "\n",
    "def result(l, square):\n",
    "    l1 = []\n",
    "    for i in l:\n",
    "        l1.append(square(i))\n",
    "    return l1\n",
    "\n",
    "# Calling the result function and printing the result\n",
    "print(result([1, 2, 3, 4], square))\n"
   ]
  },
  {
   "cell_type": "markdown",
   "id": "714e8a92-f212-4703-b4e0-52666e613655",
   "metadata": {},
   "source": [
    "1 Describe the role of built-in functions like `len()`, `max()`, and `min()` in Python."
   ]
  },
  {
   "cell_type": "code",
   "execution_count": 27,
   "id": "ef0aee80-38f6-4892-9b28-d5e172834dba",
   "metadata": {},
   "outputs": [
    {
     "name": "stdout",
     "output_type": "stream",
     "text": [
      "890\n"
     ]
    }
   ],
   "source": [
    "tup = (22, 3, 45, 4, 2.4, 2, 56, 890, 1)\n",
    "\n",
    "print(max(tup))"
   ]
  },
  {
   "cell_type": "code",
   "execution_count": 28,
   "id": "f0a05cf8-1b4a-4756-acf8-c9e0eaef419f",
   "metadata": {},
   "outputs": [
    {
     "name": "stdout",
     "output_type": "stream",
     "text": [
      "9\n"
     ]
    }
   ],
   "source": [
    "tup = (22, 3, 45, 4, 2.4, 2, 56, 890, 1)\n",
    "\n",
    "print(len(tup))"
   ]
  },
  {
   "cell_type": "code",
   "execution_count": 29,
   "id": "2c8c5e95-6551-4fc1-bf65-c908f100cd0d",
   "metadata": {},
   "outputs": [
    {
     "name": "stdout",
     "output_type": "stream",
     "text": [
      "1\n"
     ]
    }
   ],
   "source": [
    "tup = (22, 3, 45, 4, 2.4, 2, 56, 890, 1)\n",
    "\n",
    "print(min(tup))"
   ]
  },
  {
   "cell_type": "markdown",
   "id": "595c01ad-3d72-412a-9619-ee0f75977d8f",
   "metadata": {},
   "source": [
    "2 Write a Python program that uses the `map()` function to apply a function to each element of a list.\n"
   ]
  },
  {
   "cell_type": "code",
   "execution_count": 30,
   "id": "24f579c9-ebb1-43d3-b0e8-ef693d83dc1d",
   "metadata": {},
   "outputs": [
    {
     "data": {
      "text/plain": [
       "[1, 4, 9, 16]"
      ]
     },
     "execution_count": 30,
     "metadata": {},
     "output_type": "execute_result"
    }
   ],
   "source": [
    "list(map(lambda x:x**2,[1,2,3,4]))"
   ]
  },
  {
   "cell_type": "markdown",
   "id": "f7078497-146d-4256-8fca-46317c8a4e4e",
   "metadata": {},
   "source": [
    "3 How does the `filter()` function work in Python, and when would you use it?\n"
   ]
  },
  {
   "cell_type": "code",
   "execution_count": 31,
   "id": "bc15257d-8c3e-4536-812f-509feeacca9c",
   "metadata": {},
   "outputs": [
    {
     "data": {
      "text/plain": [
       "[2, 4]"
      ]
     },
     "execution_count": 31,
     "metadata": {},
     "output_type": "execute_result"
    }
   ],
   "source": [
    "list(filter(lambda x:x%2==0,[1,2,3,4]))"
   ]
  },
  {
   "cell_type": "markdown",
   "id": "6904ef03-aaf1-4aa1-bedb-804509d65598",
   "metadata": {},
   "source": [
    "4 Create a Python program that uses the `reduce()` function to find the product of all elements in a list.\n"
   ]
  },
  {
   "cell_type": "code",
   "execution_count": 34,
   "id": "f3446c21-d2ed-4ca1-b3bb-2df72242e437",
   "metadata": {},
   "outputs": [
    {
     "data": {
      "text/plain": [
       "24"
      ]
     },
     "execution_count": 34,
     "metadata": {},
     "output_type": "execute_result"
    }
   ],
   "source": [
    "from functools import reduce\n",
    "reduce(lambda x,y:x*y ,[1,2,3,4])"
   ]
  },
  {
   "cell_type": "code",
   "execution_count": 6,
   "id": "608fc353-ffcb-4ef9-a882-426c654fd442",
   "metadata": {},
   "outputs": [],
   "source": [
    "#Function Documentation and Best Practices:\n",
    "\n"
   ]
  },
  {
   "cell_type": "markdown",
   "id": "eb785f33-60dc-4f57-81cd-5b63df6b4b50",
   "metadata": {},
   "source": [
    "1 Explain the purpose of docstrings in Python functions and how to write them.\n"
   ]
  },
  {
   "cell_type": "markdown",
   "id": "2dc944ef-2196-4625-92b7-97307cde58d7",
   "metadata": {},
   "source": [
    "Python documentation strings (or docstrings) provide a convenient way of associating documentation with Python modules, functions, classes, and methods. It’s specified in source code that is used, like a comment, to document a specific segment of code.\n",
    "\n",
    "The doc string line should begin with a capital letter and end with a period.\n",
    "The first line should be a short description.\n",
    "If there are more lines in the documentation string, the second line should be blank, visually separating the summary from the rest of the description.\n",
    "The following lines should be one or more paragraphs describing the object’s calling conventions, side effects, etc."
   ]
  },
  {
   "cell_type": "markdown",
   "id": "6bc6d546-8187-4a21-84f8-19c4c7545197",
   "metadata": {},
   "source": [
    "2 Describe some best practices for naming functions and variables in Python, including naming conventions and guidelines.\n"
   ]
  },
  {
   "cell_type": "markdown",
   "id": "d508fc21-716f-46a5-bb9a-bbc681a2c2de",
   "metadata": {},
   "source": [
    "Function names should be lowercase, with words separated by underscores as necessary to improve readability. Variable names follow the same convention as function names. mixedCase is allowed only in contexts where that's already the prevailing style (e.g. threading.py), to retain backwards compatibility."
   ]
  },
  {
   "cell_type": "code",
   "execution_count": null,
   "id": "575559f0-0bcd-438b-bffd-ec0a769cd30f",
   "metadata": {},
   "outputs": [],
   "source": []
  }
 ],
 "metadata": {
  "kernelspec": {
   "display_name": "Python 3 (ipykernel)",
   "language": "python",
   "name": "python3"
  },
  "language_info": {
   "codemirror_mode": {
    "name": "ipython",
    "version": 3
   },
   "file_extension": ".py",
   "mimetype": "text/x-python",
   "name": "python",
   "nbconvert_exporter": "python",
   "pygments_lexer": "ipython3",
   "version": "3.10.8"
  }
 },
 "nbformat": 4,
 "nbformat_minor": 5
}
